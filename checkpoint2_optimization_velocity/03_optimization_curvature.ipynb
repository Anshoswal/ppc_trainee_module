{
 "cells": [
  {
   "cell_type": "markdown",
   "metadata": {},
   "source": [
    "# 🛣️ Cubic Spline Interpolation and Curvature Optimization\n",
    "\n",
    "### 🎯 Part 2: Curvature Optimization\n",
    "\n",
    "Once the spline is built:\n",
    "- You must **replace the assumed boundary conditions** (like natural spline: second derivative = 0 at endpoints).\n",
    "- Your goal is to **optimize** the spline such that the **total curvature is minimized**.\n",
    "- This will result in a **smoother path**—which is desirable for autonomous vehicle trajectory planning.\n",
    "\n",
    "---\n",
    "## PROBLEM STATEMENT\n",
    "You are given n discrete watpoints from the previous section. You should now be able to interpolate these points using cubic spline interpolation. Your task now is to optimize the resulting curve.\n",
    "Replace the assumed boundary conditions with optimized ones that minimize the curvature of the spline.\n",
    "The goal is to find the smoothest possible path that passes through the points — this will represent the ideal path for a vehicle to follow.\n",
    "Your final output should be a new interpolated curve which minimizes the total curvature of the path obtained.\n",
    "\n",
    "## 📐 Curvature Formula\n",
    "\n",
    "The **curvature** $\\kappa(t)$ of a 2D parametric curve $(x(t), y(t))$ is given by:\n",
    "\n",
    "$$\n",
    "\\kappa(t) = \\frac{ |x'(t)y''(t) - y'(t)x''(t)| }{ \\left( (x'(t))^2 + (y'(t))^2 \\right)^{3/2} }\n",
    "$$\n",
    "\n",
    "Where:\n",
    "- $x'(t)$ and $y'(t)$ are the **first derivatives** with respect to the parameter $t$\n",
    "- $x''(t)$ and $y''(t)$ are the **second derivatives**\n",
    "\n",
    "---\n",
    "\n",
    "## 💡 Deliverables\n",
    "\n",
    "1. Your own implementation of cubic spline interpolation.\n",
    "2. Plots of:\n",
    "   - Original points\n",
    "   - Interpolated spline\n",
    "   - Curvature across the spline\n",
    "3. A method to optimize and minimize curvature by tuning boundary conditions.\n",
    "4. Optional: Animate or visualize the effect of curvature minimization on the smoothness of the path.\n",
    "\n",
    "---\n",
    "\n",
    "\n",
    "**Good luck!** 🚗💨 Let the paths be smooth and the math be satisfying!"
   ]
  }
 ],
 "metadata": {
  "language_info": {
   "name": "python"
  }
 },
 "nbformat": 4,
 "nbformat_minor": 2
}
